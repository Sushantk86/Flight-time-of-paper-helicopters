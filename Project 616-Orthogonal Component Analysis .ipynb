{
 "cells": [
  {
   "cell_type": "markdown",
   "id": "3aff484c",
   "metadata": {},
   "source": [
    "# Location effects \n",
    "# Finding the absolute contrasts of the 26 effects using linear regression "
   ]
  },
  {
   "cell_type": "code",
   "execution_count": 116,
   "id": "9572b4dd",
   "metadata": {},
   "outputs": [],
   "source": [
    "import numpy as np \n",
    "from sklearn.linear_model import LinearRegression\n",
    "import pandas as pd\n",
    "import statsmodels.api as sm\n",
    "import seaborn as sns\n",
    "import matplotlib.pyplot as plt \n",
    "import scipy.stats as stats "
   ]
  },
  {
   "cell_type": "code",
   "execution_count": 68,
   "id": "d7911a0b",
   "metadata": {},
   "outputs": [
    {
     "data": {
      "text/html": [
       "<div>\n",
       "<style scoped>\n",
       "    .dataframe tbody tr th:only-of-type {\n",
       "        vertical-align: middle;\n",
       "    }\n",
       "\n",
       "    .dataframe tbody tr th {\n",
       "        vertical-align: top;\n",
       "    }\n",
       "\n",
       "    .dataframe thead th {\n",
       "        text-align: right;\n",
       "    }\n",
       "</style>\n",
       "<table border=\"1\" class=\"dataframe\">\n",
       "  <thead>\n",
       "    <tr style=\"text-align: right;\">\n",
       "      <th></th>\n",
       "      <th>Run</th>\n",
       "      <th>A</th>\n",
       "      <th>A_l</th>\n",
       "      <th>A_q</th>\n",
       "      <th>B</th>\n",
       "      <th>B_l</th>\n",
       "      <th>B_q</th>\n",
       "      <th>C</th>\n",
       "      <th>C_l</th>\n",
       "      <th>C_q</th>\n",
       "      <th>...</th>\n",
       "      <th>AB^2C_q</th>\n",
       "      <th>AB^2C^2</th>\n",
       "      <th>AB^2C^2_l</th>\n",
       "      <th>AB^2C^2_q</th>\n",
       "      <th>y_1</th>\n",
       "      <th>y_2</th>\n",
       "      <th>y_3</th>\n",
       "      <th>y_avg</th>\n",
       "      <th>s^2</th>\n",
       "      <th>ln s^2</th>\n",
       "    </tr>\n",
       "  </thead>\n",
       "  <tbody>\n",
       "    <tr>\n",
       "      <th>0</th>\n",
       "      <td>1</td>\n",
       "      <td>0</td>\n",
       "      <td>-0.707107</td>\n",
       "      <td>0.408248</td>\n",
       "      <td>0</td>\n",
       "      <td>-0.707107</td>\n",
       "      <td>0.408248</td>\n",
       "      <td>0</td>\n",
       "      <td>-0.707107</td>\n",
       "      <td>0.408248</td>\n",
       "      <td>...</td>\n",
       "      <td>0.408248</td>\n",
       "      <td>0</td>\n",
       "      <td>-0.707107</td>\n",
       "      <td>0.408248</td>\n",
       "      <td>2.20</td>\n",
       "      <td>1.71</td>\n",
       "      <td>1.81</td>\n",
       "      <td>1.906667</td>\n",
       "      <td>0.067033</td>\n",
       "      <td>-2.702565</td>\n",
       "    </tr>\n",
       "    <tr>\n",
       "      <th>1</th>\n",
       "      <td>2</td>\n",
       "      <td>0</td>\n",
       "      <td>-0.707107</td>\n",
       "      <td>0.408248</td>\n",
       "      <td>0</td>\n",
       "      <td>-0.707107</td>\n",
       "      <td>0.408248</td>\n",
       "      <td>1</td>\n",
       "      <td>0.000000</td>\n",
       "      <td>-0.816497</td>\n",
       "      <td>...</td>\n",
       "      <td>-0.816497</td>\n",
       "      <td>2</td>\n",
       "      <td>0.707107</td>\n",
       "      <td>0.408248</td>\n",
       "      <td>1.80</td>\n",
       "      <td>1.84</td>\n",
       "      <td>1.98</td>\n",
       "      <td>1.873333</td>\n",
       "      <td>0.008933</td>\n",
       "      <td>-4.717966</td>\n",
       "    </tr>\n",
       "    <tr>\n",
       "      <th>2</th>\n",
       "      <td>3</td>\n",
       "      <td>0</td>\n",
       "      <td>-0.707107</td>\n",
       "      <td>0.408248</td>\n",
       "      <td>0</td>\n",
       "      <td>-0.707107</td>\n",
       "      <td>0.408248</td>\n",
       "      <td>2</td>\n",
       "      <td>0.707107</td>\n",
       "      <td>0.408248</td>\n",
       "      <td>...</td>\n",
       "      <td>0.408248</td>\n",
       "      <td>1</td>\n",
       "      <td>0.000000</td>\n",
       "      <td>-0.816497</td>\n",
       "      <td>2.43</td>\n",
       "      <td>2.29</td>\n",
       "      <td>2.11</td>\n",
       "      <td>2.276667</td>\n",
       "      <td>0.025733</td>\n",
       "      <td>-3.659968</td>\n",
       "    </tr>\n",
       "    <tr>\n",
       "      <th>3</th>\n",
       "      <td>4</td>\n",
       "      <td>0</td>\n",
       "      <td>-0.707107</td>\n",
       "      <td>0.408248</td>\n",
       "      <td>1</td>\n",
       "      <td>0.000000</td>\n",
       "      <td>-0.816497</td>\n",
       "      <td>0</td>\n",
       "      <td>-0.707107</td>\n",
       "      <td>0.408248</td>\n",
       "      <td>...</td>\n",
       "      <td>0.408248</td>\n",
       "      <td>2</td>\n",
       "      <td>0.707107</td>\n",
       "      <td>0.408248</td>\n",
       "      <td>1.88</td>\n",
       "      <td>2.13</td>\n",
       "      <td>2.00</td>\n",
       "      <td>2.003333</td>\n",
       "      <td>0.015633</td>\n",
       "      <td>-4.158350</td>\n",
       "    </tr>\n",
       "    <tr>\n",
       "      <th>4</th>\n",
       "      <td>5</td>\n",
       "      <td>0</td>\n",
       "      <td>-0.707107</td>\n",
       "      <td>0.408248</td>\n",
       "      <td>1</td>\n",
       "      <td>0.000000</td>\n",
       "      <td>-0.816497</td>\n",
       "      <td>1</td>\n",
       "      <td>0.000000</td>\n",
       "      <td>-0.816497</td>\n",
       "      <td>...</td>\n",
       "      <td>0.408248</td>\n",
       "      <td>1</td>\n",
       "      <td>0.000000</td>\n",
       "      <td>-0.816497</td>\n",
       "      <td>1.97</td>\n",
       "      <td>2.10</td>\n",
       "      <td>2.18</td>\n",
       "      <td>2.083333</td>\n",
       "      <td>0.011233</td>\n",
       "      <td>-4.488870</td>\n",
       "    </tr>\n",
       "  </tbody>\n",
       "</table>\n",
       "<p>5 rows × 46 columns</p>\n",
       "</div>"
      ],
      "text/plain": [
       "   Run  A       A_l       A_q  B       B_l       B_q  C       C_l       C_q  \\\n",
       "0    1  0 -0.707107  0.408248  0 -0.707107  0.408248  0 -0.707107  0.408248   \n",
       "1    2  0 -0.707107  0.408248  0 -0.707107  0.408248  1  0.000000 -0.816497   \n",
       "2    3  0 -0.707107  0.408248  0 -0.707107  0.408248  2  0.707107  0.408248   \n",
       "3    4  0 -0.707107  0.408248  1  0.000000 -0.816497  0 -0.707107  0.408248   \n",
       "4    5  0 -0.707107  0.408248  1  0.000000 -0.816497  1  0.000000 -0.816497   \n",
       "\n",
       "   ...   AB^2C_q  AB^2C^2  AB^2C^2_l  AB^2C^2_q   y_1   y_2   y_3     y_avg  \\\n",
       "0  ...  0.408248        0  -0.707107   0.408248  2.20  1.71  1.81  1.906667   \n",
       "1  ... -0.816497        2   0.707107   0.408248  1.80  1.84  1.98  1.873333   \n",
       "2  ...  0.408248        1   0.000000  -0.816497  2.43  2.29  2.11  2.276667   \n",
       "3  ...  0.408248        2   0.707107   0.408248  1.88  2.13  2.00  2.003333   \n",
       "4  ...  0.408248        1   0.000000  -0.816497  1.97  2.10  2.18  2.083333   \n",
       "\n",
       "        s^2    ln s^2  \n",
       "0  0.067033 -2.702565  \n",
       "1  0.008933 -4.717966  \n",
       "2  0.025733 -3.659968  \n",
       "3  0.015633 -4.158350  \n",
       "4  0.011233 -4.488870  \n",
       "\n",
       "[5 rows x 46 columns]"
      ]
     },
     "execution_count": 68,
     "metadata": {},
     "output_type": "execute_result"
    }
   ],
   "source": [
    "data=pd.read_excel('Half Normal Plot for Orthogonal Comp Analysis_latest.xlsx')\n",
    "data.head()"
   ]
  },
  {
   "cell_type": "code",
   "execution_count": 69,
   "id": "38a7adbd",
   "metadata": {},
   "outputs": [
    {
     "data": {
      "text/plain": [
       "pandas.core.frame.DataFrame"
      ]
     },
     "execution_count": 69,
     "metadata": {},
     "output_type": "execute_result"
    }
   ],
   "source": [
    "type(data)"
   ]
  },
  {
   "cell_type": "code",
   "execution_count": 70,
   "id": "63538a1e",
   "metadata": {},
   "outputs": [
    {
     "data": {
      "text/plain": [
       "(27, 46)"
      ]
     },
     "execution_count": 70,
     "metadata": {},
     "output_type": "execute_result"
    }
   ],
   "source": [
    "data.shape"
   ]
  },
  {
   "cell_type": "code",
   "execution_count": 74,
   "id": "3e4e8152",
   "metadata": {},
   "outputs": [
    {
     "data": {
      "text/plain": [
       "Index(['Run', 'A', 'A_l', 'A_q', 'B', 'B_l', 'B_q', 'C', 'C_l', 'C_q', 'AB',\n",
       "       'AB_l', 'AB_q', 'AB^2', 'AB^2_l', 'AB^2_q', 'AC', 'AC_l', 'AC_q',\n",
       "       'AC^2', 'AC^2_l', 'AC^2_q', 'BC', 'BC_l', 'BC_q', 'BC^2', 'BC^2_l',\n",
       "       'BC^2_q', 'ABC', 'ABC_l', 'ABC_q', 'ABC^2', 'ABC^2_l', 'ABC^2_q',\n",
       "       'AB^2C', 'AB^2C_l', 'AB^2C_q', 'AB^2C^2', 'AB^2C^2_l', 'AB^2C^2_q',\n",
       "       'y_1', 'y_2', 'y_3', 'y_avg', 's^2', 'ln s^2'],\n",
       "      dtype='object')"
      ]
     },
     "execution_count": 74,
     "metadata": {},
     "output_type": "execute_result"
    }
   ],
   "source": [
    "data.columns"
   ]
  },
  {
   "cell_type": "code",
   "execution_count": 75,
   "id": "0facdf84",
   "metadata": {},
   "outputs": [],
   "source": [
    "X = data.drop(['Run','A','B','C','AB','BC','AC','AB^2','BC^2','AC^2','ABC','AB^2C','ABC^2','AB^2C^2','y_avg','s^2', 'ln s^2','y_1','y_2','y_3'], axis=1)\n",
    "\n",
    "#data1= data.drop(['Run' ], axis=1, inplace= True)\n",
    "#data1.head()"
   ]
  },
  {
   "cell_type": "code",
   "execution_count": 76,
   "id": "09275da5",
   "metadata": {},
   "outputs": [
    {
     "data": {
      "text/plain": [
       "(27, 26)"
      ]
     },
     "execution_count": 76,
     "metadata": {},
     "output_type": "execute_result"
    }
   ],
   "source": [
    "X.shape"
   ]
  },
  {
   "cell_type": "code",
   "execution_count": 77,
   "id": "613d5edc",
   "metadata": {},
   "outputs": [],
   "source": [
    "X= sm.add_constant(X)"
   ]
  },
  {
   "cell_type": "code",
   "execution_count": 78,
   "id": "4dd82d9f",
   "metadata": {},
   "outputs": [
    {
     "data": {
      "text/plain": [
       "Index(['const', 'A_l', 'A_q', 'B_l', 'B_q', 'C_l', 'C_q', 'AB_l', 'AB_q',\n",
       "       'AB^2_l', 'AB^2_q', 'AC_l', 'AC_q', 'AC^2_l', 'AC^2_q', 'BC_l', 'BC_q',\n",
       "       'BC^2_l', 'BC^2_q', 'ABC_l', 'ABC_q', 'ABC^2_l', 'ABC^2_q', 'AB^2C_l',\n",
       "       'AB^2C_q', 'AB^2C^2_l', 'AB^2C^2_q'],\n",
       "      dtype='object')"
      ]
     },
     "execution_count": 78,
     "metadata": {},
     "output_type": "execute_result"
    }
   ],
   "source": [
    "X.columns"
   ]
  },
  {
   "cell_type": "code",
   "execution_count": 79,
   "id": "d4ecd351",
   "metadata": {},
   "outputs": [
    {
     "data": {
      "text/plain": [
       "0     1.906667\n",
       "1     1.873333\n",
       "2     2.276667\n",
       "3     2.003333\n",
       "4     2.083333\n",
       "5     2.013333\n",
       "6     1.936667\n",
       "7     1.980000\n",
       "8     1.893333\n",
       "9     2.096667\n",
       "10    2.266667\n",
       "11    2.066667\n",
       "12    2.090000\n",
       "13    1.996667\n",
       "14    1.983333\n",
       "15    2.096667\n",
       "16    2.113333\n",
       "17    2.196667\n",
       "18    2.320000\n",
       "19    2.623333\n",
       "20    2.053333\n",
       "21    2.436667\n",
       "22    2.413333\n",
       "23    2.263333\n",
       "24    2.340000\n",
       "25    2.353333\n",
       "26    2.203333\n",
       "Name: y_avg, dtype: float64"
      ]
     },
     "execution_count": 79,
     "metadata": {},
     "output_type": "execute_result"
    }
   ],
   "source": [
    "Y= data['y_avg']\n",
    "Y"
   ]
  },
  {
   "cell_type": "code",
   "execution_count": 80,
   "id": "c4e78106",
   "metadata": {},
   "outputs": [],
   "source": [
    "model= sm.OLS(Y,X).fit()"
   ]
  },
  {
   "cell_type": "code",
   "execution_count": 81,
   "id": "e7104371",
   "metadata": {},
   "outputs": [
    {
     "name": "stdout",
     "output_type": "stream",
     "text": [
      "                            OLS Regression Results                            \n",
      "==============================================================================\n",
      "Dep. Variable:                  y_avg   R-squared:                       1.000\n",
      "Model:                            OLS   Adj. R-squared:                    nan\n",
      "Method:                 Least Squares   F-statistic:                       nan\n",
      "Date:                Fri, 26 Apr 2024   Prob (F-statistic):                nan\n",
      "Time:                        02:18:10   Log-Likelihood:                 902.68\n",
      "No. Observations:                  27   AIC:                            -1751.\n",
      "Df Residuals:                       0   BIC:                            -1716.\n",
      "Df Model:                          26                                         \n",
      "Covariance Type:            nonrobust                                         \n",
      "==============================================================================\n",
      "                 coef    std err          t      P>|t|      [0.025      0.975]\n",
      "------------------------------------------------------------------------------\n",
      "const          2.1437        inf          0        nan         nan         nan\n",
      "A_l            0.2388        inf          0        nan         nan         nan\n",
      "A_q            0.0526        inf          0        nan         nan         nan\n",
      "B_l           -0.0291        inf         -0        nan         nan         nan\n",
      "B_q            0.0014        inf          0        nan         nan         nan\n",
      "C_l           -0.0217        inf         -0        nan         nan         nan\n",
      "C_q           -0.0558        inf         -0        nan         nan         nan\n",
      "AB_l          -0.0550        inf         -0        nan         nan         nan\n",
      "AB_q          -0.0181        inf         -0        nan         nan         nan\n",
      "AB^2_l         0.0377        inf          0        nan         nan         nan\n",
      "AB^2_q        -0.0082        inf         -0        nan         nan         nan\n",
      "AC_l           0.0136        inf          0        nan         nan         nan\n",
      "AC_q           0.0753        inf          0        nan         nan         nan\n",
      "AC^2_l         0.0422        inf          0        nan         nan         nan\n",
      "AC^2_q        -0.0767        inf         -0        nan         nan         nan\n",
      "BC_l           0.0183        inf          0        nan         nan         nan\n",
      "BC_q          -0.0399        inf         -0        nan         nan         nan\n",
      "BC^2_l         0.0225        inf          0        nan         nan         nan\n",
      "BC^2_q        -0.0109        inf         -0        nan         nan         nan\n",
      "ABC_l          0.0364        inf          0        nan         nan         nan\n",
      "ABC_q          0.0712        inf          0        nan         nan         nan\n",
      "ABC^2_l       -0.0034        inf         -0        nan         nan         nan\n",
      "ABC^2_q       -0.0658        inf         -0        nan         nan         nan\n",
      "AB^2C_l        0.0128        inf          0        nan         nan         nan\n",
      "AB^2C_q        0.0458        inf          0        nan         nan         nan\n",
      "AB^2C^2_l     -0.0309        inf         -0        nan         nan         nan\n",
      "AB^2C^2_q     -0.0626        inf         -0        nan         nan         nan\n",
      "==============================================================================\n",
      "Omnibus:                        0.134   Durbin-Watson:                   1.150\n",
      "Prob(Omnibus):                  0.935   Jarque-Bera (JB):                0.017\n",
      "Skew:                          -0.005   Prob(JB):                        0.991\n",
      "Kurtosis:                       2.876   Cond. No.                         1.73\n",
      "==============================================================================\n",
      "\n",
      "Notes:\n",
      "[1] Standard Errors assume that the covariance matrix of the errors is correctly specified.\n"
     ]
    },
    {
     "name": "stderr",
     "output_type": "stream",
     "text": [
      "/Users/sushantkumar/opt/anaconda3/lib/python3.9/site-packages/statsmodels/regression/linear_model.py:1749: RuntimeWarning: divide by zero encountered in divide\n",
      "  return 1 - (np.divide(self.nobs - self.k_constant, self.df_resid)\n",
      "/Users/sushantkumar/opt/anaconda3/lib/python3.9/site-packages/statsmodels/regression/linear_model.py:1749: RuntimeWarning: invalid value encountered in scalar multiply\n",
      "  return 1 - (np.divide(self.nobs - self.k_constant, self.df_resid)\n",
      "/Users/sushantkumar/opt/anaconda3/lib/python3.9/site-packages/statsmodels/regression/linear_model.py:1671: RuntimeWarning: divide by zero encountered in scalar divide\n",
      "  return np.dot(wresid, wresid) / self.df_resid\n"
     ]
    }
   ],
   "source": [
    "print(model.summary())"
   ]
  },
  {
   "cell_type": "code",
   "execution_count": 108,
   "id": "62c17386",
   "metadata": {},
   "outputs": [],
   "source": [
    "coefficients = model.params\n",
    "parameters = model.params.index.tolist()  # Convert to list"
   ]
  },
  {
   "cell_type": "code",
   "execution_count": 109,
   "id": "6ded4906",
   "metadata": {},
   "outputs": [],
   "source": [
    "# Take the modulus of the coefficients\n",
    "coefficients_abs = np.abs(coefficients)"
   ]
  },
  {
   "cell_type": "code",
   "execution_count": 110,
   "id": "9696b68e",
   "metadata": {},
   "outputs": [],
   "source": [
    "# Zip the coefficients with their corresponding parameters\n",
    "coefficients_zipped = list(zip(parameters, coefficients_abs))  # Convert to list"
   ]
  },
  {
   "cell_type": "code",
   "execution_count": 112,
   "id": "aac6ed5a",
   "metadata": {},
   "outputs": [
    {
     "data": {
      "text/html": [
       "<div>\n",
       "<style scoped>\n",
       "    .dataframe tbody tr th:only-of-type {\n",
       "        vertical-align: middle;\n",
       "    }\n",
       "\n",
       "    .dataframe tbody tr th {\n",
       "        vertical-align: top;\n",
       "    }\n",
       "\n",
       "    .dataframe thead th {\n",
       "        text-align: right;\n",
       "    }\n",
       "</style>\n",
       "<table border=\"1\" class=\"dataframe\">\n",
       "  <thead>\n",
       "    <tr style=\"text-align: right;\">\n",
       "      <th></th>\n",
       "      <th>Parameter</th>\n",
       "      <th>Absolute Coefficient</th>\n",
       "    </tr>\n",
       "  </thead>\n",
       "  <tbody>\n",
       "    <tr>\n",
       "      <th>0</th>\n",
       "      <td>const</td>\n",
       "      <td>2.143704</td>\n",
       "    </tr>\n",
       "    <tr>\n",
       "      <th>1</th>\n",
       "      <td>A_l</td>\n",
       "      <td>0.238845</td>\n",
       "    </tr>\n",
       "    <tr>\n",
       "      <th>2</th>\n",
       "      <td>A_q</td>\n",
       "      <td>0.052619</td>\n",
       "    </tr>\n",
       "    <tr>\n",
       "      <th>3</th>\n",
       "      <td>B_l</td>\n",
       "      <td>0.029070</td>\n",
       "    </tr>\n",
       "    <tr>\n",
       "      <th>4</th>\n",
       "      <td>B_q</td>\n",
       "      <td>0.001361</td>\n",
       "    </tr>\n",
       "  </tbody>\n",
       "</table>\n",
       "</div>"
      ],
      "text/plain": [
       "  Parameter  Absolute Coefficient\n",
       "0     const              2.143704\n",
       "1       A_l              0.238845\n",
       "2       A_q              0.052619\n",
       "3       B_l              0.029070\n",
       "4       B_q              0.001361"
      ]
     },
     "execution_count": 112,
     "metadata": {},
     "output_type": "execute_result"
    }
   ],
   "source": [
    "# Convert zipped coefficients to DataFrame\n",
    "df = pd.DataFrame(coefficients_zipped, columns=['Parameter', 'Absolute Coefficient'])\n",
    "df.head()"
   ]
  },
  {
   "cell_type": "code",
   "execution_count": 118,
   "id": "bb623c72",
   "metadata": {},
   "outputs": [],
   "source": [
    "# Sort the DataFrame by the absolute coefficients\n",
    "df_sorted = df.sort_values(by='Absolute Coefficient')\n",
    "df_sorted = df_sorted[df_sorted['Parameter'] != 'const']"
   ]
  },
  {
   "cell_type": "code",
   "execution_count": 119,
   "id": "309c84a2",
   "metadata": {},
   "outputs": [
    {
     "name": "stdout",
     "output_type": "stream",
     "text": [
      "Sorted Coefficients (DataFrame):\n",
      "    Parameter  Absolute Coefficient\n",
      "4         B_q              0.001361\n",
      "21    ABC^2_l              0.003405\n",
      "10     AB^2_q              0.008165\n",
      "18     BC^2_q              0.010887\n",
      "23    AB^2C_l              0.012833\n",
      "11       AC_l              0.013618\n",
      "8        AB_q              0.018144\n",
      "15       BC_l              0.018332\n",
      "5         C_l              0.021737\n",
      "17     BC^2_l              0.022523\n",
      "3         B_l              0.029070\n",
      "25  AB^2C^2_l              0.030903\n",
      "19      ABC_l              0.036403\n",
      "9      AB^2_l              0.037712\n",
      "16       BC_q              0.039918\n",
      "13     AC^2_l              0.042165\n",
      "24    AB^2C_q              0.045815\n",
      "2         A_q              0.052619\n",
      "7        AB_l              0.054997\n",
      "6         C_q              0.055794\n",
      "26  AB^2C^2_q              0.062598\n",
      "22    ABC^2_q              0.065773\n",
      "20      ABC_q              0.071217\n",
      "12       AC_q              0.075299\n",
      "14     AC^2_q              0.076660\n",
      "1         A_l              0.238845\n"
     ]
    }
   ],
   "source": [
    "# Print the sorted DataFrame\n",
    "print(\"Sorted Coefficients (DataFrame):\")\n",
    "print(df_sorted)"
   ]
  },
  {
   "cell_type": "code",
   "execution_count": 162,
   "id": "3d4305f7",
   "metadata": {},
   "outputs": [
    {
     "data": {
      "text/html": [
       "<div>\n",
       "<style scoped>\n",
       "    .dataframe tbody tr th:only-of-type {\n",
       "        vertical-align: middle;\n",
       "    }\n",
       "\n",
       "    .dataframe tbody tr th {\n",
       "        vertical-align: top;\n",
       "    }\n",
       "\n",
       "    .dataframe thead th {\n",
       "        text-align: right;\n",
       "    }\n",
       "</style>\n",
       "<table border=\"1\" class=\"dataframe\">\n",
       "  <thead>\n",
       "    <tr style=\"text-align: right;\">\n",
       "      <th></th>\n",
       "      <th>Parameter</th>\n",
       "      <th>Absolute Coefficient</th>\n",
       "      <th>Quantiles</th>\n",
       "    </tr>\n",
       "  </thead>\n",
       "  <tbody>\n",
       "    <tr>\n",
       "      <th>0</th>\n",
       "      <td>B_q</td>\n",
       "      <td>0.001361</td>\n",
       "      <td>0.024105</td>\n",
       "    </tr>\n",
       "    <tr>\n",
       "      <th>1</th>\n",
       "      <td>ABC^2_l</td>\n",
       "      <td>0.003405</td>\n",
       "      <td>0.072370</td>\n",
       "    </tr>\n",
       "    <tr>\n",
       "      <th>2</th>\n",
       "      <td>AB^2_q</td>\n",
       "      <td>0.008165</td>\n",
       "      <td>0.120804</td>\n",
       "    </tr>\n",
       "    <tr>\n",
       "      <th>3</th>\n",
       "      <td>BC^2_q</td>\n",
       "      <td>0.010887</td>\n",
       "      <td>0.169524</td>\n",
       "    </tr>\n",
       "    <tr>\n",
       "      <th>4</th>\n",
       "      <td>AB^2C_l</td>\n",
       "      <td>0.012833</td>\n",
       "      <td>0.218650</td>\n",
       "    </tr>\n",
       "  </tbody>\n",
       "</table>\n",
       "</div>"
      ],
      "text/plain": [
       "  Parameter  Absolute Coefficient  Quantiles\n",
       "0       B_q              0.001361   0.024105\n",
       "1   ABC^2_l              0.003405   0.072370\n",
       "2    AB^2_q              0.008165   0.120804\n",
       "3    BC^2_q              0.010887   0.169524\n",
       "4   AB^2C_l              0.012833   0.218650"
      ]
     },
     "execution_count": 162,
     "metadata": {},
     "output_type": "execute_result"
    }
   ],
   "source": [
    "df_sorted= df_sorted.reset_index(drop=True)\n",
    "df_sorted.head()"
   ]
  },
  {
   "cell_type": "code",
   "execution_count": 163,
   "id": "aa47a621",
   "metadata": {},
   "outputs": [
    {
     "data": {
      "text/plain": [
       "26"
      ]
     },
     "execution_count": 163,
     "metadata": {},
     "output_type": "execute_result"
    }
   ],
   "source": [
    "i_values= range(1,27)\n",
    "len(i_values)"
   ]
  },
  {
   "cell_type": "code",
   "execution_count": 164,
   "id": "ebbc6fd6",
   "metadata": {},
   "outputs": [
    {
     "name": "stdout",
     "output_type": "stream",
     "text": [
      "26\n"
     ]
    }
   ],
   "source": [
    "# Compute CDF values for standard normal distribution \n",
    "quantiles= [stats.norm.ppf(0.5+0.5*(i-0.5)/26) for i in i_values]\n",
    "print (len(quantiles))"
   ]
  },
  {
   "cell_type": "code",
   "execution_count": 165,
   "id": "775672f4",
   "metadata": {},
   "outputs": [
    {
     "name": "stdout",
     "output_type": "stream",
     "text": [
      "[0.0241045289806029, 0.07236970645650208, 0.12080416150268287, 0.16952384856926506, 0.21864951704140353, 0.2683089229162129, 0.31863936396437514, 0.36979067802381926, 0.42192888874856543, 0.4752407505132449, 0.5299395463003201, 0.5862726494026449, 0.6445316061066133, 0.7050658929000242, 0.7683021589798122, 0.8347718934067764, 0.9051524750285038, 0.9803303522249296, 1.0615026297045762, 1.1503493803760079, 1.2493462419630998, 1.3623833894180186, 1.496146876216362, 1.663792785885074, 1.8980286526220012, 2.3410271376304492]\n"
     ]
    }
   ],
   "source": [
    "print(quantiles)"
   ]
  },
  {
   "cell_type": "code",
   "execution_count": 166,
   "id": "67ec6b5f",
   "metadata": {},
   "outputs": [
    {
     "data": {
      "text/plain": [
       "list"
      ]
     },
     "execution_count": 166,
     "metadata": {},
     "output_type": "execute_result"
    }
   ],
   "source": [
    "type(quantiles)"
   ]
  },
  {
   "cell_type": "code",
   "execution_count": 173,
   "id": "39f6365f",
   "metadata": {},
   "outputs": [
    {
     "data": {
      "text/html": [
       "<div>\n",
       "<style scoped>\n",
       "    .dataframe tbody tr th:only-of-type {\n",
       "        vertical-align: middle;\n",
       "    }\n",
       "\n",
       "    .dataframe tbody tr th {\n",
       "        vertical-align: top;\n",
       "    }\n",
       "\n",
       "    .dataframe thead th {\n",
       "        text-align: right;\n",
       "    }\n",
       "</style>\n",
       "<table border=\"1\" class=\"dataframe\">\n",
       "  <thead>\n",
       "    <tr style=\"text-align: right;\">\n",
       "      <th></th>\n",
       "      <th>Parameter</th>\n",
       "      <th>Absolute Coefficient</th>\n",
       "      <th>Quantiles</th>\n",
       "    </tr>\n",
       "  </thead>\n",
       "  <tbody>\n",
       "    <tr>\n",
       "      <th>0</th>\n",
       "      <td>B_q</td>\n",
       "      <td>0.001361</td>\n",
       "      <td>0.024105</td>\n",
       "    </tr>\n",
       "    <tr>\n",
       "      <th>1</th>\n",
       "      <td>ABC^2_l</td>\n",
       "      <td>0.003405</td>\n",
       "      <td>0.072370</td>\n",
       "    </tr>\n",
       "    <tr>\n",
       "      <th>2</th>\n",
       "      <td>AB^2_q</td>\n",
       "      <td>0.008165</td>\n",
       "      <td>0.120804</td>\n",
       "    </tr>\n",
       "    <tr>\n",
       "      <th>3</th>\n",
       "      <td>BC^2_q</td>\n",
       "      <td>0.010887</td>\n",
       "      <td>0.169524</td>\n",
       "    </tr>\n",
       "    <tr>\n",
       "      <th>4</th>\n",
       "      <td>AB^2C_l</td>\n",
       "      <td>0.012833</td>\n",
       "      <td>0.218650</td>\n",
       "    </tr>\n",
       "    <tr>\n",
       "      <th>5</th>\n",
       "      <td>AC_l</td>\n",
       "      <td>0.013618</td>\n",
       "      <td>0.268309</td>\n",
       "    </tr>\n",
       "    <tr>\n",
       "      <th>6</th>\n",
       "      <td>AB_q</td>\n",
       "      <td>0.018144</td>\n",
       "      <td>0.318639</td>\n",
       "    </tr>\n",
       "    <tr>\n",
       "      <th>7</th>\n",
       "      <td>BC_l</td>\n",
       "      <td>0.018332</td>\n",
       "      <td>0.369791</td>\n",
       "    </tr>\n",
       "    <tr>\n",
       "      <th>8</th>\n",
       "      <td>C_l</td>\n",
       "      <td>0.021737</td>\n",
       "      <td>0.421929</td>\n",
       "    </tr>\n",
       "    <tr>\n",
       "      <th>9</th>\n",
       "      <td>BC^2_l</td>\n",
       "      <td>0.022523</td>\n",
       "      <td>0.475241</td>\n",
       "    </tr>\n",
       "    <tr>\n",
       "      <th>10</th>\n",
       "      <td>B_l</td>\n",
       "      <td>0.029070</td>\n",
       "      <td>0.529940</td>\n",
       "    </tr>\n",
       "    <tr>\n",
       "      <th>11</th>\n",
       "      <td>AB^2C^2_l</td>\n",
       "      <td>0.030903</td>\n",
       "      <td>0.586273</td>\n",
       "    </tr>\n",
       "    <tr>\n",
       "      <th>12</th>\n",
       "      <td>ABC_l</td>\n",
       "      <td>0.036403</td>\n",
       "      <td>0.644532</td>\n",
       "    </tr>\n",
       "    <tr>\n",
       "      <th>13</th>\n",
       "      <td>AB^2_l</td>\n",
       "      <td>0.037712</td>\n",
       "      <td>0.705066</td>\n",
       "    </tr>\n",
       "    <tr>\n",
       "      <th>14</th>\n",
       "      <td>BC_q</td>\n",
       "      <td>0.039918</td>\n",
       "      <td>0.768302</td>\n",
       "    </tr>\n",
       "    <tr>\n",
       "      <th>15</th>\n",
       "      <td>AC^2_l</td>\n",
       "      <td>0.042165</td>\n",
       "      <td>0.834772</td>\n",
       "    </tr>\n",
       "    <tr>\n",
       "      <th>16</th>\n",
       "      <td>AB^2C_q</td>\n",
       "      <td>0.045815</td>\n",
       "      <td>0.905152</td>\n",
       "    </tr>\n",
       "    <tr>\n",
       "      <th>17</th>\n",
       "      <td>A_q</td>\n",
       "      <td>0.052619</td>\n",
       "      <td>0.980330</td>\n",
       "    </tr>\n",
       "    <tr>\n",
       "      <th>18</th>\n",
       "      <td>AB_l</td>\n",
       "      <td>0.054997</td>\n",
       "      <td>1.061503</td>\n",
       "    </tr>\n",
       "    <tr>\n",
       "      <th>19</th>\n",
       "      <td>C_q</td>\n",
       "      <td>0.055794</td>\n",
       "      <td>1.150349</td>\n",
       "    </tr>\n",
       "    <tr>\n",
       "      <th>20</th>\n",
       "      <td>AB^2C^2_q</td>\n",
       "      <td>0.062598</td>\n",
       "      <td>1.249346</td>\n",
       "    </tr>\n",
       "    <tr>\n",
       "      <th>21</th>\n",
       "      <td>ABC^2_q</td>\n",
       "      <td>0.065773</td>\n",
       "      <td>1.362383</td>\n",
       "    </tr>\n",
       "    <tr>\n",
       "      <th>22</th>\n",
       "      <td>ABC_q</td>\n",
       "      <td>0.071217</td>\n",
       "      <td>1.496147</td>\n",
       "    </tr>\n",
       "    <tr>\n",
       "      <th>23</th>\n",
       "      <td>AC_q</td>\n",
       "      <td>0.075299</td>\n",
       "      <td>1.663793</td>\n",
       "    </tr>\n",
       "    <tr>\n",
       "      <th>24</th>\n",
       "      <td>AC^2_q</td>\n",
       "      <td>0.076660</td>\n",
       "      <td>1.898029</td>\n",
       "    </tr>\n",
       "    <tr>\n",
       "      <th>25</th>\n",
       "      <td>A_l</td>\n",
       "      <td>0.238845</td>\n",
       "      <td>2.341027</td>\n",
       "    </tr>\n",
       "  </tbody>\n",
       "</table>\n",
       "</div>"
      ],
      "text/plain": [
       "    Parameter  Absolute Coefficient  Quantiles\n",
       "0         B_q              0.001361   0.024105\n",
       "1     ABC^2_l              0.003405   0.072370\n",
       "2      AB^2_q              0.008165   0.120804\n",
       "3      BC^2_q              0.010887   0.169524\n",
       "4     AB^2C_l              0.012833   0.218650\n",
       "5        AC_l              0.013618   0.268309\n",
       "6        AB_q              0.018144   0.318639\n",
       "7        BC_l              0.018332   0.369791\n",
       "8         C_l              0.021737   0.421929\n",
       "9      BC^2_l              0.022523   0.475241\n",
       "10        B_l              0.029070   0.529940\n",
       "11  AB^2C^2_l              0.030903   0.586273\n",
       "12      ABC_l              0.036403   0.644532\n",
       "13     AB^2_l              0.037712   0.705066\n",
       "14       BC_q              0.039918   0.768302\n",
       "15     AC^2_l              0.042165   0.834772\n",
       "16    AB^2C_q              0.045815   0.905152\n",
       "17        A_q              0.052619   0.980330\n",
       "18       AB_l              0.054997   1.061503\n",
       "19        C_q              0.055794   1.150349\n",
       "20  AB^2C^2_q              0.062598   1.249346\n",
       "21    ABC^2_q              0.065773   1.362383\n",
       "22      ABC_q              0.071217   1.496147\n",
       "23       AC_q              0.075299   1.663793\n",
       "24     AC^2_q              0.076660   1.898029\n",
       "25        A_l              0.238845   2.341027"
      ]
     },
     "execution_count": 173,
     "metadata": {},
     "output_type": "execute_result"
    }
   ],
   "source": [
    "# Adding the list to the dataframe\n",
    "df_sorted['Quantiles']= quantiles\n",
    "df_sorted.head()\n",
    "df_sorted"
   ]
  },
  {
   "cell_type": "code",
   "execution_count": 168,
   "id": "3380aa47",
   "metadata": {},
   "outputs": [
    {
     "data": {
      "text/plain": [
       "pandas.core.series.Series"
      ]
     },
     "execution_count": 168,
     "metadata": {},
     "output_type": "execute_result"
    }
   ],
   "source": [
    "labels= df_sorted['Parameter']\n",
    "type(labels)"
   ]
  },
  {
   "cell_type": "code",
   "execution_count": 210,
   "id": "80720f44",
   "metadata": {
    "scrolled": true
   },
   "outputs": [
    {
     "data": {
      "image/png": "[encoded data removed]",
      "text/plain": [
       "<Figure size 1000x600 with 1 Axes>"
      ]
     },
     "metadata": {},
     "output_type": "display_data"
    }
   ],
   "source": [
    "plt.figure(figsize=(10, 6))\n",
    "sns.scatterplot(data=df_sorted, x='Quantiles', y='Absolute Coefficient', color='blue', s=100)\n",
    "plt.axvline(x=2.0, color='red', linestyle='--') \n",
    "#for i in range(len(df_sorted)):\n",
    "    #plt.annotate(text[i], (x[i], y[i] + 0.2))\n",
    "    #plt.annotate(df_sorted['Quantiles'][i], (df['Absolute Coefficient'][i], df['Parameter'][i]), fontsize=6, ha='center')\n",
    "plt.text(2.241027,0.238845,\"A_l\",fontsize=12, ha='center', va='center', color='black', weight='bold') \n",
    "plt.title('Half_Normal_Plot for Location Effect')\n",
    "plt.xlabel('Quantiles')\n",
    "plt.ylabel('Effects')\n",
    "plt.show()"
   ]
  },
  {
   "cell_type": "code",
   "execution_count": null,
   "id": "c71145b7",
   "metadata": {},
   "outputs": [],
   "source": [
    "# From the half normal plot above, we get only one significant effect : A_l"
   ]
  },
  {
   "cell_type": "code",
   "execution_count": null,
   "id": "6e65e637",
   "metadata": {},
   "outputs": [],
   "source": [
    "# Run the regression on A_l to get the Y_bar ( Location effect/ Flight Time )"
   ]
  },
  {
   "cell_type": "code",
   "execution_count": 211,
   "id": "b361069e",
   "metadata": {},
   "outputs": [
    {
     "data": {
      "text/plain": [
       "Index(['const', 'A_l', 'A_q', 'B_l', 'B_q', 'C_l', 'C_q', 'AB_l', 'AB_q',\n",
       "       'AB^2_l', 'AB^2_q', 'AC_l', 'AC_q', 'AC^2_l', 'AC^2_q', 'BC_l', 'BC_q',\n",
       "       'BC^2_l', 'BC^2_q', 'ABC_l', 'ABC_q', 'ABC^2_l', 'ABC^2_q', 'AB^2C_l',\n",
       "       'AB^2C_q', 'AB^2C^2_l', 'AB^2C^2_q'],\n",
       "      dtype='object')"
      ]
     },
     "execution_count": 211,
     "metadata": {},
     "output_type": "execute_result"
    }
   ],
   "source": [
    "X.columns"
   ]
  },
  {
   "cell_type": "code",
   "execution_count": 214,
   "id": "30044eec",
   "metadata": {},
   "outputs": [],
   "source": [
    "X2=X['A_l']"
   ]
  },
  {
   "cell_type": "code",
   "execution_count": 215,
   "id": "068574e2",
   "metadata": {},
   "outputs": [],
   "source": [
    "X2= sm.add_constant(X2)"
   ]
  },
  {
   "cell_type": "code",
   "execution_count": 216,
   "id": "299cbdfe",
   "metadata": {},
   "outputs": [
    {
     "name": "stdout",
     "output_type": "stream",
     "text": [
      "                            OLS Regression Results                            \n",
      "==============================================================================\n",
      "Dep. Variable:                  y_avg   R-squared:                       0.554\n",
      "Model:                            OLS   Adj. R-squared:                  0.536\n",
      "Method:                 Least Squares   F-statistic:                     31.02\n",
      "Date:                Tue, 30 Apr 2024   Prob (F-statistic):           8.61e-06\n",
      "Time:                        14:54:10   Log-Likelihood:                 18.094\n",
      "No. Observations:                  27   AIC:                            -32.19\n",
      "Df Residuals:                      25   BIC:                            -29.60\n",
      "Df Model:                           1                                         \n",
      "Covariance Type:            nonrobust                                         \n",
      "==============================================================================\n",
      "                 coef    std err          t      P>|t|      [0.025      0.975]\n",
      "------------------------------------------------------------------------------\n",
      "const          2.1437      0.025     86.578      0.000       2.093       2.195\n",
      "A_l            0.2388      0.043      5.569      0.000       0.151       0.327\n",
      "==============================================================================\n",
      "Omnibus:                        4.665   Durbin-Watson:                   2.373\n",
      "Prob(Omnibus):                  0.097   Jarque-Bera (JB):                2.890\n",
      "Skew:                           0.682   Prob(JB):                        0.236\n",
      "Kurtosis:                       3.842   Cond. No.                         1.73\n",
      "==============================================================================\n",
      "\n",
      "Notes:\n",
      "[1] Standard Errors assume that the covariance matrix of the errors is correctly specified.\n"
     ]
    }
   ],
   "source": [
    "model_updated= sm.OLS(Y,X2).fit()\n",
    "print(model_updated.summary())"
   ]
  },
  {
   "cell_type": "code",
   "execution_count": null,
   "id": "f24461cd",
   "metadata": {},
   "outputs": [],
   "source": [
    "# From above results we can get the maximum flight time by selecting A_l as positive ; Y_bar= 2.1437 + 0.2388*A_l\n",
    "# Replace A_l with +1 "
   ]
  },
  {
   "cell_type": "markdown",
   "id": "00883f19",
   "metadata": {},
   "source": [
    "# Dispersion Effects\n",
    "# Finding the absolute contrasts of the 26 effects using linear regression "
   ]
  },
  {
   "cell_type": "code",
   "execution_count": 218,
   "id": "3aecee1c",
   "metadata": {},
   "outputs": [],
   "source": [
    "X1 = data.drop(['Run','A','B','C','AB','BC','AC','AB^2','BC^2','AC^2','ABC','AB^2C','ABC^2','AB^2C^2','y_avg','s^2', 'ln s^2','y_1','y_2','y_3'], axis=1)\n",
    "\n",
    "#data1= data.drop(['Run' ], axis=1, inplace= True)\n",
    "#data1.head()"
   ]
  },
  {
   "cell_type": "code",
   "execution_count": 219,
   "id": "fa7a7a92",
   "metadata": {},
   "outputs": [
    {
     "data": {
      "text/plain": [
       "Index(['A_l', 'A_q', 'B_l', 'B_q', 'C_l', 'C_q', 'AB_l', 'AB_q', 'AB^2_l',\n",
       "       'AB^2_q', 'AC_l', 'AC_q', 'AC^2_l', 'AC^2_q', 'BC_l', 'BC_q', 'BC^2_l',\n",
       "       'BC^2_q', 'ABC_l', 'ABC_q', 'ABC^2_l', 'ABC^2_q', 'AB^2C_l', 'AB^2C_q',\n",
       "       'AB^2C^2_l', 'AB^2C^2_q'],\n",
       "      dtype='object')"
      ]
     },
     "execution_count": 219,
     "metadata": {},
     "output_type": "execute_result"
    }
   ],
   "source": [
    "X1.columns"
   ]
  },
  {
   "cell_type": "code",
   "execution_count": 220,
   "id": "9800e879",
   "metadata": {},
   "outputs": [
    {
     "data": {
      "text/plain": [
       "Index(['const', 'A_l', 'A_q', 'B_l', 'B_q', 'C_l', 'C_q', 'AB_l', 'AB_q',\n",
       "       'AB^2_l', 'AB^2_q', 'AC_l', 'AC_q', 'AC^2_l', 'AC^2_q', 'BC_l', 'BC_q',\n",
       "       'BC^2_l', 'BC^2_q', 'ABC_l', 'ABC_q', 'ABC^2_l', 'ABC^2_q', 'AB^2C_l',\n",
       "       'AB^2C_q', 'AB^2C^2_l', 'AB^2C^2_q'],\n",
       "      dtype='object')"
      ]
     },
     "execution_count": 220,
     "metadata": {},
     "output_type": "execute_result"
    }
   ],
   "source": [
    "X.columns"
   ]
  },
  {
   "cell_type": "code",
   "execution_count": 184,
   "id": "69ab3c0e",
   "metadata": {},
   "outputs": [
    {
     "data": {
      "text/plain": [
       "0    -2.702565\n",
       "1    -4.717966\n",
       "2    -3.659968\n",
       "3    -4.158350\n",
       "4    -4.488870\n",
       "5    -3.374555\n",
       "6    -4.126868\n",
       "7    -5.067206\n",
       "8    -3.905378\n",
       "9    -3.518855\n",
       "10   -5.311740\n",
       "11   -3.328877\n",
       "12   -3.717279\n",
       "13   -3.982803\n",
       "14   -4.078471\n",
       "15   -6.547753\n",
       "16   -5.046262\n",
       "17   -4.957095\n",
       "18   -5.776353\n",
       "19   -4.632199\n",
       "20   -3.245904\n",
       "21   -4.126868\n",
       "22   -4.310016\n",
       "23   -3.852183\n",
       "24   -3.952845\n",
       "25   -4.957095\n",
       "26   -3.788332\n",
       "Name: ln s^2, dtype: float64"
      ]
     },
     "execution_count": 184,
     "metadata": {},
     "output_type": "execute_result"
    }
   ],
   "source": [
    "Y1= data['ln s^2']\n",
    "Y1"
   ]
  },
  {
   "cell_type": "code",
   "execution_count": 185,
   "id": "8d21a60d",
   "metadata": {},
   "outputs": [],
   "source": [
    "model_dispersion= sm.OLS(Y1,X).fit()"
   ]
  },
  {
   "cell_type": "code",
   "execution_count": 186,
   "id": "92cdc1bd",
   "metadata": {},
   "outputs": [
    {
     "name": "stdout",
     "output_type": "stream",
     "text": [
      "                            OLS Regression Results                            \n",
      "==============================================================================\n",
      "Dep. Variable:                 ln s^2   R-squared:                       1.000\n",
      "Model:                            OLS   Adj. R-squared:                    nan\n",
      "Method:                 Least Squares   F-statistic:                       nan\n",
      "Date:                Fri, 26 Apr 2024   Prob (F-statistic):                nan\n",
      "Time:                        16:43:00   Log-Likelihood:                 889.25\n",
      "No. Observations:                  27   AIC:                            -1725.\n",
      "Df Residuals:                       0   BIC:                            -1690.\n",
      "Df Model:                          26                                         \n",
      "Covariance Type:            nonrobust                                         \n",
      "==============================================================================\n",
      "                 coef    std err          t      P>|t|      [0.025      0.975]\n",
      "------------------------------------------------------------------------------\n",
      "const         -4.2716        inf         -0        nan         nan         nan\n",
      "A_l           -0.1917        inf         -0        nan         nan         nan\n",
      "A_q            0.2783        inf          0        nan         nan         nan\n",
      "B_l           -0.4285        inf         -0        nan         nan         nan\n",
      "B_q           -0.3205        inf         -0        nan         nan         nan\n",
      "C_l            0.3486        inf          0        nan         nan         nan\n",
      "C_q            0.5538        inf          0        nan         nan         nan\n",
      "AB_l           0.1091        inf          0        nan         nan         nan\n",
      "AB_q          -0.2129        inf         -0        nan         nan         nan\n",
      "AB^2_l        -0.5240        inf         -0        nan         nan         nan\n",
      "AB^2_q        -0.1220        inf         -0        nan         nan         nan\n",
      "AC_l          -0.1481        inf         -0        nan         nan         nan\n",
      "AC_q           0.0681        inf          0        nan         nan         nan\n",
      "AC^2_l        -0.3362        inf         -0        nan         nan         nan\n",
      "AC^2_q         0.0243        inf          0        nan         nan         nan\n",
      "BC_l           0.0573        inf          0        nan         nan         nan\n",
      "BC_q           0.1185        inf          0        nan         nan         nan\n",
      "BC^2_l        -0.2486        inf         -0        nan         nan         nan\n",
      "BC^2_q        -0.1546        inf         -0        nan         nan         nan\n",
      "ABC_l         -0.2590        inf         -0        nan         nan         nan\n",
      "ABC_q         -0.2055        inf         -0        nan         nan         nan\n",
      "ABC^2_l        0.0926        inf          0        nan         nan         nan\n",
      "ABC^2_q       -0.0902        inf         -0        nan         nan         nan\n",
      "AB^2C_l       -0.5556        inf         -0        nan         nan         nan\n",
      "AB^2C_q       -0.1954        inf         -0        nan         nan         nan\n",
      "AB^2C^2_l     -0.3604        inf         -0        nan         nan         nan\n",
      "AB^2C^2_q     -0.1330        inf         -0        nan         nan         nan\n",
      "==============================================================================\n",
      "Omnibus:                        0.309   Durbin-Watson:                   2.015\n",
      "Prob(Omnibus):                  0.857   Jarque-Bera (JB):                0.353\n",
      "Skew:                           0.222   Prob(JB):                        0.838\n",
      "Kurtosis:                       2.659   Cond. No.                         1.73\n",
      "==============================================================================\n",
      "\n",
      "Notes:\n",
      "[1] Standard Errors assume that the covariance matrix of the errors is correctly specified.\n"
     ]
    },
    {
     "name": "stderr",
     "output_type": "stream",
     "text": [
      "/Users/sushantkumar/opt/anaconda3/lib/python3.9/site-packages/statsmodels/regression/linear_model.py:1749: RuntimeWarning: divide by zero encountered in divide\n",
      "  return 1 - (np.divide(self.nobs - self.k_constant, self.df_resid)\n",
      "/Users/sushantkumar/opt/anaconda3/lib/python3.9/site-packages/statsmodels/regression/linear_model.py:1749: RuntimeWarning: invalid value encountered in scalar multiply\n",
      "  return 1 - (np.divide(self.nobs - self.k_constant, self.df_resid)\n",
      "/Users/sushantkumar/opt/anaconda3/lib/python3.9/site-packages/statsmodels/regression/linear_model.py:1671: RuntimeWarning: divide by zero encountered in scalar divide\n",
      "  return np.dot(wresid, wresid) / self.df_resid\n"
     ]
    }
   ],
   "source": [
    "print(model_dispersion.summary())"
   ]
  },
  {
   "cell_type": "code",
   "execution_count": 187,
   "id": "cdb42b35",
   "metadata": {},
   "outputs": [],
   "source": [
    "coefficients_disp = model_dispersion.params\n",
    "parameters_dis = model_dispersion.params.index.tolist()  # Convert to list"
   ]
  },
  {
   "cell_type": "code",
   "execution_count": 188,
   "id": "9be33ee2",
   "metadata": {},
   "outputs": [],
   "source": [
    "# Take the modulus of the coefficients\n",
    "dis_coefficients_abs = np.abs(coefficients_disp)"
   ]
  },
  {
   "cell_type": "code",
   "execution_count": 189,
   "id": "3938057f",
   "metadata": {},
   "outputs": [],
   "source": [
    "# Zip the coefficients with their corresponding parameters\n",
    "dis_coefficients_zipped = list(zip(parameters_dis, dis_coefficients_abs))  # Convert to list"
   ]
  },
  {
   "cell_type": "code",
   "execution_count": 190,
   "id": "fbb2da41",
   "metadata": {},
   "outputs": [
    {
     "data": {
      "text/html": [
       "<div>\n",
       "<style scoped>\n",
       "    .dataframe tbody tr th:only-of-type {\n",
       "        vertical-align: middle;\n",
       "    }\n",
       "\n",
       "    .dataframe tbody tr th {\n",
       "        vertical-align: top;\n",
       "    }\n",
       "\n",
       "    .dataframe thead th {\n",
       "        text-align: right;\n",
       "    }\n",
       "</style>\n",
       "<table border=\"1\" class=\"dataframe\">\n",
       "  <thead>\n",
       "    <tr style=\"text-align: right;\">\n",
       "      <th></th>\n",
       "      <th>Parameter</th>\n",
       "      <th>Absolute_Coefficient</th>\n",
       "    </tr>\n",
       "  </thead>\n",
       "  <tbody>\n",
       "    <tr>\n",
       "      <th>0</th>\n",
       "      <td>const</td>\n",
       "      <td>4.271580</td>\n",
       "    </tr>\n",
       "    <tr>\n",
       "      <th>1</th>\n",
       "      <td>A_l</td>\n",
       "      <td>0.191710</td>\n",
       "    </tr>\n",
       "    <tr>\n",
       "      <th>2</th>\n",
       "      <td>A_q</td>\n",
       "      <td>0.278278</td>\n",
       "    </tr>\n",
       "    <tr>\n",
       "      <th>3</th>\n",
       "      <td>B_l</td>\n",
       "      <td>0.428538</td>\n",
       "    </tr>\n",
       "    <tr>\n",
       "      <th>4</th>\n",
       "      <td>B_q</td>\n",
       "      <td>0.320451</td>\n",
       "    </tr>\n",
       "  </tbody>\n",
       "</table>\n",
       "</div>"
      ],
      "text/plain": [
       "  Parameter  Absolute_Coefficient\n",
       "0     const              4.271580\n",
       "1       A_l              0.191710\n",
       "2       A_q              0.278278\n",
       "3       B_l              0.428538\n",
       "4       B_q              0.320451"
      ]
     },
     "execution_count": 190,
     "metadata": {},
     "output_type": "execute_result"
    }
   ],
   "source": [
    "# Convert zipped coefficients to DataFrame\n",
    "df_disp = pd.DataFrame(dis_coefficients_zipped, columns=['Parameter', 'Absolute_Coefficient'])\n",
    "df_disp.head()"
   ]
  },
  {
   "cell_type": "code",
   "execution_count": 191,
   "id": "6090099b",
   "metadata": {},
   "outputs": [],
   "source": [
    "# Sort the DataFrame by the absolute coefficients\n",
    "df_sorted_disp = df_disp.sort_values(by='Absolute_Coefficient')\n",
    "df_sorted_disp = df_sorted_disp[df_sorted_disp['Parameter'] != 'const']"
   ]
  },
  {
   "cell_type": "code",
   "execution_count": 192,
   "id": "9fee001f",
   "metadata": {},
   "outputs": [
    {
     "name": "stdout",
     "output_type": "stream",
     "text": [
      "Sorted Coefficients (DataFrame):\n",
      "    Parameter  Absolute_Coefficient\n",
      "14     AC^2_q              0.024342\n",
      "15       BC_l              0.057326\n",
      "12       AC_q              0.068059\n",
      "22    ABC^2_q              0.090184\n",
      "21    ABC^2_l              0.092563\n",
      "7        AB_l              0.109068\n",
      "16       BC_q              0.118526\n",
      "10     AB^2_q              0.121961\n",
      "26  AB^2C^2_q              0.133024\n",
      "11       AC_l              0.148118\n",
      "18     BC^2_q              0.154646\n",
      "1         A_l              0.191710\n",
      "24    AB^2C_q              0.195443\n",
      "20      ABC_q              0.205508\n",
      "8        AB_q              0.212929\n",
      "17     BC^2_l              0.248612\n",
      "19      ABC_l              0.258981\n",
      "2         A_q              0.278278\n",
      "4         B_q              0.320451\n",
      "13     AC^2_l              0.336233\n",
      "5         C_l              0.348601\n",
      "25  AB^2C^2_l              0.360432\n",
      "3         B_l              0.428538\n",
      "9      AB^2_l              0.524046\n",
      "6         C_q              0.553848\n",
      "23    AB^2C_l              0.555608\n"
     ]
    }
   ],
   "source": [
    "# Print the sorted DataFrame\n",
    "print(\"Sorted Coefficients (DataFrame):\")\n",
    "print(df_sorted_disp)"
   ]
  },
  {
   "cell_type": "code",
   "execution_count": 193,
   "id": "df042ea2",
   "metadata": {},
   "outputs": [
    {
     "data": {
      "text/html": [
       "<div>\n",
       "<style scoped>\n",
       "    .dataframe tbody tr th:only-of-type {\n",
       "        vertical-align: middle;\n",
       "    }\n",
       "\n",
       "    .dataframe tbody tr th {\n",
       "        vertical-align: top;\n",
       "    }\n",
       "\n",
       "    .dataframe thead th {\n",
       "        text-align: right;\n",
       "    }\n",
       "</style>\n",
       "<table border=\"1\" class=\"dataframe\">\n",
       "  <thead>\n",
       "    <tr style=\"text-align: right;\">\n",
       "      <th></th>\n",
       "      <th>Parameter</th>\n",
       "      <th>Absolute_Coefficient</th>\n",
       "    </tr>\n",
       "  </thead>\n",
       "  <tbody>\n",
       "    <tr>\n",
       "      <th>0</th>\n",
       "      <td>AC^2_q</td>\n",
       "      <td>0.024342</td>\n",
       "    </tr>\n",
       "    <tr>\n",
       "      <th>1</th>\n",
       "      <td>BC_l</td>\n",
       "      <td>0.057326</td>\n",
       "    </tr>\n",
       "    <tr>\n",
       "      <th>2</th>\n",
       "      <td>AC_q</td>\n",
       "      <td>0.068059</td>\n",
       "    </tr>\n",
       "    <tr>\n",
       "      <th>3</th>\n",
       "      <td>ABC^2_q</td>\n",
       "      <td>0.090184</td>\n",
       "    </tr>\n",
       "    <tr>\n",
       "      <th>4</th>\n",
       "      <td>ABC^2_l</td>\n",
       "      <td>0.092563</td>\n",
       "    </tr>\n",
       "  </tbody>\n",
       "</table>\n",
       "</div>"
      ],
      "text/plain": [
       "  Parameter  Absolute_Coefficient\n",
       "0    AC^2_q              0.024342\n",
       "1      BC_l              0.057326\n",
       "2      AC_q              0.068059\n",
       "3   ABC^2_q              0.090184\n",
       "4   ABC^2_l              0.092563"
      ]
     },
     "execution_count": 193,
     "metadata": {},
     "output_type": "execute_result"
    }
   ],
   "source": [
    "df_sorted_disp= df_sorted_disp.reset_index(drop=True)\n",
    "df_sorted_disp.head()"
   ]
  },
  {
   "cell_type": "code",
   "execution_count": 194,
   "id": "3d3c3f9c",
   "metadata": {},
   "outputs": [
    {
     "data": {
      "text/plain": [
       "26"
      ]
     },
     "execution_count": 194,
     "metadata": {},
     "output_type": "execute_result"
    }
   ],
   "source": [
    "i_values_disp= range(1,27)\n",
    "len(i_values_disp)"
   ]
  },
  {
   "cell_type": "code",
   "execution_count": 195,
   "id": "bb249f69",
   "metadata": {},
   "outputs": [
    {
     "name": "stdout",
     "output_type": "stream",
     "text": [
      "26\n"
     ]
    }
   ],
   "source": [
    "# Compute CDF values for standard normal distribution \n",
    "quantiles_disp= [stats.norm.ppf(0.5+0.5*(i-0.5)/26) for i in i_values_disp]\n",
    "print (len(quantiles_disp))"
   ]
  },
  {
   "cell_type": "code",
   "execution_count": 196,
   "id": "87ba3c57",
   "metadata": {},
   "outputs": [
    {
     "data": {
      "text/html": [
       "<div>\n",
       "<style scoped>\n",
       "    .dataframe tbody tr th:only-of-type {\n",
       "        vertical-align: middle;\n",
       "    }\n",
       "\n",
       "    .dataframe tbody tr th {\n",
       "        vertical-align: top;\n",
       "    }\n",
       "\n",
       "    .dataframe thead th {\n",
       "        text-align: right;\n",
       "    }\n",
       "</style>\n",
       "<table border=\"1\" class=\"dataframe\">\n",
       "  <thead>\n",
       "    <tr style=\"text-align: right;\">\n",
       "      <th></th>\n",
       "      <th>Parameter</th>\n",
       "      <th>Absolute_Coefficient</th>\n",
       "      <th>Quantiles_disp</th>\n",
       "    </tr>\n",
       "  </thead>\n",
       "  <tbody>\n",
       "    <tr>\n",
       "      <th>0</th>\n",
       "      <td>AC^2_q</td>\n",
       "      <td>0.024342</td>\n",
       "      <td>0.024105</td>\n",
       "    </tr>\n",
       "    <tr>\n",
       "      <th>1</th>\n",
       "      <td>BC_l</td>\n",
       "      <td>0.057326</td>\n",
       "      <td>0.072370</td>\n",
       "    </tr>\n",
       "    <tr>\n",
       "      <th>2</th>\n",
       "      <td>AC_q</td>\n",
       "      <td>0.068059</td>\n",
       "      <td>0.120804</td>\n",
       "    </tr>\n",
       "    <tr>\n",
       "      <th>3</th>\n",
       "      <td>ABC^2_q</td>\n",
       "      <td>0.090184</td>\n",
       "      <td>0.169524</td>\n",
       "    </tr>\n",
       "    <tr>\n",
       "      <th>4</th>\n",
       "      <td>ABC^2_l</td>\n",
       "      <td>0.092563</td>\n",
       "      <td>0.218650</td>\n",
       "    </tr>\n",
       "    <tr>\n",
       "      <th>5</th>\n",
       "      <td>AB_l</td>\n",
       "      <td>0.109068</td>\n",
       "      <td>0.268309</td>\n",
       "    </tr>\n",
       "    <tr>\n",
       "      <th>6</th>\n",
       "      <td>BC_q</td>\n",
       "      <td>0.118526</td>\n",
       "      <td>0.318639</td>\n",
       "    </tr>\n",
       "    <tr>\n",
       "      <th>7</th>\n",
       "      <td>AB^2_q</td>\n",
       "      <td>0.121961</td>\n",
       "      <td>0.369791</td>\n",
       "    </tr>\n",
       "    <tr>\n",
       "      <th>8</th>\n",
       "      <td>AB^2C^2_q</td>\n",
       "      <td>0.133024</td>\n",
       "      <td>0.421929</td>\n",
       "    </tr>\n",
       "    <tr>\n",
       "      <th>9</th>\n",
       "      <td>AC_l</td>\n",
       "      <td>0.148118</td>\n",
       "      <td>0.475241</td>\n",
       "    </tr>\n",
       "    <tr>\n",
       "      <th>10</th>\n",
       "      <td>BC^2_q</td>\n",
       "      <td>0.154646</td>\n",
       "      <td>0.529940</td>\n",
       "    </tr>\n",
       "    <tr>\n",
       "      <th>11</th>\n",
       "      <td>A_l</td>\n",
       "      <td>0.191710</td>\n",
       "      <td>0.586273</td>\n",
       "    </tr>\n",
       "    <tr>\n",
       "      <th>12</th>\n",
       "      <td>AB^2C_q</td>\n",
       "      <td>0.195443</td>\n",
       "      <td>0.644532</td>\n",
       "    </tr>\n",
       "    <tr>\n",
       "      <th>13</th>\n",
       "      <td>ABC_q</td>\n",
       "      <td>0.205508</td>\n",
       "      <td>0.705066</td>\n",
       "    </tr>\n",
       "    <tr>\n",
       "      <th>14</th>\n",
       "      <td>AB_q</td>\n",
       "      <td>0.212929</td>\n",
       "      <td>0.768302</td>\n",
       "    </tr>\n",
       "    <tr>\n",
       "      <th>15</th>\n",
       "      <td>BC^2_l</td>\n",
       "      <td>0.248612</td>\n",
       "      <td>0.834772</td>\n",
       "    </tr>\n",
       "    <tr>\n",
       "      <th>16</th>\n",
       "      <td>ABC_l</td>\n",
       "      <td>0.258981</td>\n",
       "      <td>0.905152</td>\n",
       "    </tr>\n",
       "    <tr>\n",
       "      <th>17</th>\n",
       "      <td>A_q</td>\n",
       "      <td>0.278278</td>\n",
       "      <td>0.980330</td>\n",
       "    </tr>\n",
       "    <tr>\n",
       "      <th>18</th>\n",
       "      <td>B_q</td>\n",
       "      <td>0.320451</td>\n",
       "      <td>1.061503</td>\n",
       "    </tr>\n",
       "    <tr>\n",
       "      <th>19</th>\n",
       "      <td>AC^2_l</td>\n",
       "      <td>0.336233</td>\n",
       "      <td>1.150349</td>\n",
       "    </tr>\n",
       "    <tr>\n",
       "      <th>20</th>\n",
       "      <td>C_l</td>\n",
       "      <td>0.348601</td>\n",
       "      <td>1.249346</td>\n",
       "    </tr>\n",
       "    <tr>\n",
       "      <th>21</th>\n",
       "      <td>AB^2C^2_l</td>\n",
       "      <td>0.360432</td>\n",
       "      <td>1.362383</td>\n",
       "    </tr>\n",
       "    <tr>\n",
       "      <th>22</th>\n",
       "      <td>B_l</td>\n",
       "      <td>0.428538</td>\n",
       "      <td>1.496147</td>\n",
       "    </tr>\n",
       "    <tr>\n",
       "      <th>23</th>\n",
       "      <td>AB^2_l</td>\n",
       "      <td>0.524046</td>\n",
       "      <td>1.663793</td>\n",
       "    </tr>\n",
       "    <tr>\n",
       "      <th>24</th>\n",
       "      <td>C_q</td>\n",
       "      <td>0.553848</td>\n",
       "      <td>1.898029</td>\n",
       "    </tr>\n",
       "    <tr>\n",
       "      <th>25</th>\n",
       "      <td>AB^2C_l</td>\n",
       "      <td>0.555608</td>\n",
       "      <td>2.341027</td>\n",
       "    </tr>\n",
       "  </tbody>\n",
       "</table>\n",
       "</div>"
      ],
      "text/plain": [
       "    Parameter  Absolute_Coefficient  Quantiles_disp\n",
       "0      AC^2_q              0.024342        0.024105\n",
       "1        BC_l              0.057326        0.072370\n",
       "2        AC_q              0.068059        0.120804\n",
       "3     ABC^2_q              0.090184        0.169524\n",
       "4     ABC^2_l              0.092563        0.218650\n",
       "5        AB_l              0.109068        0.268309\n",
       "6        BC_q              0.118526        0.318639\n",
       "7      AB^2_q              0.121961        0.369791\n",
       "8   AB^2C^2_q              0.133024        0.421929\n",
       "9        AC_l              0.148118        0.475241\n",
       "10     BC^2_q              0.154646        0.529940\n",
       "11        A_l              0.191710        0.586273\n",
       "12    AB^2C_q              0.195443        0.644532\n",
       "13      ABC_q              0.205508        0.705066\n",
       "14       AB_q              0.212929        0.768302\n",
       "15     BC^2_l              0.248612        0.834772\n",
       "16      ABC_l              0.258981        0.905152\n",
       "17        A_q              0.278278        0.980330\n",
       "18        B_q              0.320451        1.061503\n",
       "19     AC^2_l              0.336233        1.150349\n",
       "20        C_l              0.348601        1.249346\n",
       "21  AB^2C^2_l              0.360432        1.362383\n",
       "22        B_l              0.428538        1.496147\n",
       "23     AB^2_l              0.524046        1.663793\n",
       "24        C_q              0.553848        1.898029\n",
       "25    AB^2C_l              0.555608        2.341027"
      ]
     },
     "execution_count": 196,
     "metadata": {},
     "output_type": "execute_result"
    }
   ],
   "source": [
    "# Adding the list to the dataframe\n",
    "df_sorted_disp['Quantiles_disp']= quantiles_disp\n",
    "df_sorted_disp.head()\n",
    "df_sorted_disp"
   ]
  },
  {
   "cell_type": "code",
   "execution_count": 197,
   "id": "04f6e8b9",
   "metadata": {},
   "outputs": [
    {
     "data": {
      "text/plain": [
       "pandas.core.series.Series"
      ]
     },
     "execution_count": 197,
     "metadata": {},
     "output_type": "execute_result"
    }
   ],
   "source": [
    "labels= df_sorted_disp['Parameter']\n",
    "type(labels)"
   ]
  },
  {
   "cell_type": "code",
   "execution_count": 209,
   "id": "1d0bf551",
   "metadata": {},
   "outputs": [
    {
     "data": {
      "image/png": "[encoded data removed]",
      "text/plain": [
       "<Figure size 1000x600 with 1 Axes>"
      ]
     },
     "metadata": {},
     "output_type": "display_data"
    }
   ],
   "source": [
    "plt.figure(figsize=(10, 6))\n",
    "sns.scatterplot(data=df_sorted_disp, x='Quantiles_disp', y='Absolute_Coefficient', color='blue', s=100)\n",
    "# Plot vertical line at the percentile\n",
    "plt.axvline(x=1.45, color='red', linestyle='--') #label=f'{percentile}th Percentile'\n",
    "#for i in range(len(df_sorted)):\n",
    "    #plt.annotate(text[i], (x[i], y[i] + 0.2))\n",
    "    #plt.annotate(df_sorted['Quantiles'][i], (df['Absolute Coefficient'][i], df['Parameter'][i]), fontsize=6, ha='center')\n",
    "plt.text(2.241027,0.57,\"AB^2C_l\",fontsize=10, ha='center', va='center', color='black', weight='bold')\n",
    "plt.text(1.898029, 0.563848, \"C_q\", color='black', weight='bold')\n",
    "plt.text(1.663793, 0.54, \"AB^2_l\", color='black', weight='bold')\n",
    "plt.text(1.496147,0.44, \"B_l\", color='black', weight='bold' )\n",
    "plt.title('Half_Normal_Plot for Dispersion Effect')\n",
    "plt.xlabel('Quantiles_disp')\n",
    "plt.ylabel('Effects')\n",
    "plt.show()"
   ]
  },
  {
   "cell_type": "code",
   "execution_count": null,
   "id": "f8736a36",
   "metadata": {},
   "outputs": [],
   "source": [
    "# Choosing the red line as the threshold and all the effects on the right side of red line are significant. There \n",
    "# four effects are significant- AB^2C_l, C_q,AB^2_l, B_l "
   ]
  },
  {
   "cell_type": "code",
   "execution_count": null,
   "id": "2f3d3944",
   "metadata": {},
   "outputs": [],
   "source": [
    "# Run a new regression with the significant effects and choose the levels of the factors "
   ]
  },
  {
   "cell_type": "code",
   "execution_count": 223,
   "id": "353ce783",
   "metadata": {},
   "outputs": [
    {
     "data": {
      "text/plain": [
       "pandas.core.frame.DataFrame"
      ]
     },
     "execution_count": 223,
     "metadata": {},
     "output_type": "execute_result"
    }
   ],
   "source": [
    "type(X)"
   ]
  },
  {
   "cell_type": "code",
   "execution_count": 234,
   "id": "a89db262",
   "metadata": {},
   "outputs": [
    {
     "data": {
      "text/plain": [
       "(27, 4)"
      ]
     },
     "execution_count": 234,
     "metadata": {},
     "output_type": "execute_result"
    }
   ],
   "source": [
    "X3=X[['B_l', 'AB^2_l','C_q','AB^2C_l']]\n",
    "X3.shape"
   ]
  },
  {
   "cell_type": "code",
   "execution_count": 239,
   "id": "cf8dd4dc",
   "metadata": {},
   "outputs": [
    {
     "data": {
      "text/html": [
       "<div>\n",
       "<style scoped>\n",
       "    .dataframe tbody tr th:only-of-type {\n",
       "        vertical-align: middle;\n",
       "    }\n",
       "\n",
       "    .dataframe tbody tr th {\n",
       "        vertical-align: top;\n",
       "    }\n",
       "\n",
       "    .dataframe thead th {\n",
       "        text-align: right;\n",
       "    }\n",
       "</style>\n",
       "<table border=\"1\" class=\"dataframe\">\n",
       "  <thead>\n",
       "    <tr style=\"text-align: right;\">\n",
       "      <th></th>\n",
       "      <th>Run</th>\n",
       "      <th>A</th>\n",
       "      <th>A_l</th>\n",
       "      <th>A_q</th>\n",
       "      <th>B</th>\n",
       "      <th>B_l</th>\n",
       "      <th>B_q</th>\n",
       "      <th>C</th>\n",
       "      <th>C_l</th>\n",
       "      <th>C_q</th>\n",
       "      <th>...</th>\n",
       "      <th>AB^2C_q</th>\n",
       "      <th>AB^2C^2</th>\n",
       "      <th>AB^2C^2_l</th>\n",
       "      <th>AB^2C^2_q</th>\n",
       "      <th>y_1</th>\n",
       "      <th>y_2</th>\n",
       "      <th>y_3</th>\n",
       "      <th>y_avg</th>\n",
       "      <th>s^2</th>\n",
       "      <th>ln s^2</th>\n",
       "    </tr>\n",
       "  </thead>\n",
       "  <tbody>\n",
       "    <tr>\n",
       "      <th>0</th>\n",
       "      <td>1</td>\n",
       "      <td>0</td>\n",
       "      <td>-0.707107</td>\n",
       "      <td>0.408248</td>\n",
       "      <td>0</td>\n",
       "      <td>-0.707107</td>\n",
       "      <td>0.408248</td>\n",
       "      <td>0</td>\n",
       "      <td>-0.707107</td>\n",
       "      <td>0.408248</td>\n",
       "      <td>...</td>\n",
       "      <td>0.408248</td>\n",
       "      <td>0</td>\n",
       "      <td>-0.707107</td>\n",
       "      <td>0.408248</td>\n",
       "      <td>2.20</td>\n",
       "      <td>1.71</td>\n",
       "      <td>1.81</td>\n",
       "      <td>1.906667</td>\n",
       "      <td>0.067033</td>\n",
       "      <td>-2.702565</td>\n",
       "    </tr>\n",
       "    <tr>\n",
       "      <th>1</th>\n",
       "      <td>2</td>\n",
       "      <td>0</td>\n",
       "      <td>-0.707107</td>\n",
       "      <td>0.408248</td>\n",
       "      <td>0</td>\n",
       "      <td>-0.707107</td>\n",
       "      <td>0.408248</td>\n",
       "      <td>1</td>\n",
       "      <td>0.000000</td>\n",
       "      <td>-0.816497</td>\n",
       "      <td>...</td>\n",
       "      <td>-0.816497</td>\n",
       "      <td>2</td>\n",
       "      <td>0.707107</td>\n",
       "      <td>0.408248</td>\n",
       "      <td>1.80</td>\n",
       "      <td>1.84</td>\n",
       "      <td>1.98</td>\n",
       "      <td>1.873333</td>\n",
       "      <td>0.008933</td>\n",
       "      <td>-4.717966</td>\n",
       "    </tr>\n",
       "    <tr>\n",
       "      <th>2</th>\n",
       "      <td>3</td>\n",
       "      <td>0</td>\n",
       "      <td>-0.707107</td>\n",
       "      <td>0.408248</td>\n",
       "      <td>0</td>\n",
       "      <td>-0.707107</td>\n",
       "      <td>0.408248</td>\n",
       "      <td>2</td>\n",
       "      <td>0.707107</td>\n",
       "      <td>0.408248</td>\n",
       "      <td>...</td>\n",
       "      <td>0.408248</td>\n",
       "      <td>1</td>\n",
       "      <td>0.000000</td>\n",
       "      <td>-0.816497</td>\n",
       "      <td>2.43</td>\n",
       "      <td>2.29</td>\n",
       "      <td>2.11</td>\n",
       "      <td>2.276667</td>\n",
       "      <td>0.025733</td>\n",
       "      <td>-3.659968</td>\n",
       "    </tr>\n",
       "    <tr>\n",
       "      <th>3</th>\n",
       "      <td>4</td>\n",
       "      <td>0</td>\n",
       "      <td>-0.707107</td>\n",
       "      <td>0.408248</td>\n",
       "      <td>1</td>\n",
       "      <td>0.000000</td>\n",
       "      <td>-0.816497</td>\n",
       "      <td>0</td>\n",
       "      <td>-0.707107</td>\n",
       "      <td>0.408248</td>\n",
       "      <td>...</td>\n",
       "      <td>0.408248</td>\n",
       "      <td>2</td>\n",
       "      <td>0.707107</td>\n",
       "      <td>0.408248</td>\n",
       "      <td>1.88</td>\n",
       "      <td>2.13</td>\n",
       "      <td>2.00</td>\n",
       "      <td>2.003333</td>\n",
       "      <td>0.015633</td>\n",
       "      <td>-4.158350</td>\n",
       "    </tr>\n",
       "    <tr>\n",
       "      <th>4</th>\n",
       "      <td>5</td>\n",
       "      <td>0</td>\n",
       "      <td>-0.707107</td>\n",
       "      <td>0.408248</td>\n",
       "      <td>1</td>\n",
       "      <td>0.000000</td>\n",
       "      <td>-0.816497</td>\n",
       "      <td>1</td>\n",
       "      <td>0.000000</td>\n",
       "      <td>-0.816497</td>\n",
       "      <td>...</td>\n",
       "      <td>0.408248</td>\n",
       "      <td>1</td>\n",
       "      <td>0.000000</td>\n",
       "      <td>-0.816497</td>\n",
       "      <td>1.97</td>\n",
       "      <td>2.10</td>\n",
       "      <td>2.18</td>\n",
       "      <td>2.083333</td>\n",
       "      <td>0.011233</td>\n",
       "      <td>-4.488870</td>\n",
       "    </tr>\n",
       "  </tbody>\n",
       "</table>\n",
       "<p>5 rows × 46 columns</p>\n",
       "</div>"
      ],
      "text/plain": [
       "   Run  A       A_l       A_q  B       B_l       B_q  C       C_l       C_q  \\\n",
       "0    1  0 -0.707107  0.408248  0 -0.707107  0.408248  0 -0.707107  0.408248   \n",
       "1    2  0 -0.707107  0.408248  0 -0.707107  0.408248  1  0.000000 -0.816497   \n",
       "2    3  0 -0.707107  0.408248  0 -0.707107  0.408248  2  0.707107  0.408248   \n",
       "3    4  0 -0.707107  0.408248  1  0.000000 -0.816497  0 -0.707107  0.408248   \n",
       "4    5  0 -0.707107  0.408248  1  0.000000 -0.816497  1  0.000000 -0.816497   \n",
       "\n",
       "   ...   AB^2C_q  AB^2C^2  AB^2C^2_l  AB^2C^2_q   y_1   y_2   y_3     y_avg  \\\n",
       "0  ...  0.408248        0  -0.707107   0.408248  2.20  1.71  1.81  1.906667   \n",
       "1  ... -0.816497        2   0.707107   0.408248  1.80  1.84  1.98  1.873333   \n",
       "2  ...  0.408248        1   0.000000  -0.816497  2.43  2.29  2.11  2.276667   \n",
       "3  ...  0.408248        2   0.707107   0.408248  1.88  2.13  2.00  2.003333   \n",
       "4  ...  0.408248        1   0.000000  -0.816497  1.97  2.10  2.18  2.083333   \n",
       "\n",
       "        s^2    ln s^2  \n",
       "0  0.067033 -2.702565  \n",
       "1  0.008933 -4.717966  \n",
       "2  0.025733 -3.659968  \n",
       "3  0.015633 -4.158350  \n",
       "4  0.011233 -4.488870  \n",
       "\n",
       "[5 rows x 46 columns]"
      ]
     },
     "execution_count": 239,
     "metadata": {},
     "output_type": "execute_result"
    }
   ],
   "source": [
    "data.head()"
   ]
  },
  {
   "cell_type": "code",
   "execution_count": 240,
   "id": "bd44f918",
   "metadata": {},
   "outputs": [],
   "source": [
    "X3= sm.add_constant(X3)"
   ]
  },
  {
   "cell_type": "code",
   "execution_count": 241,
   "id": "f0b85f4c",
   "metadata": {},
   "outputs": [],
   "source": [
    "Dispersion_model_updated= sm.OLS(Y1,X3).fit()"
   ]
  },
  {
   "cell_type": "code",
   "execution_count": 242,
   "id": "a0a0051a",
   "metadata": {},
   "outputs": [
    {
     "data": {
      "text/plain": [
       "0    -2.702565\n",
       "1    -4.717966\n",
       "2    -3.659968\n",
       "3    -4.158350\n",
       "4    -4.488870\n",
       "5    -3.374555\n",
       "6    -4.126868\n",
       "7    -5.067206\n",
       "8    -3.905378\n",
       "9    -3.518855\n",
       "10   -5.311740\n",
       "11   -3.328877\n",
       "12   -3.717279\n",
       "13   -3.982803\n",
       "14   -4.078471\n",
       "15   -6.547753\n",
       "16   -5.046262\n",
       "17   -4.957095\n",
       "18   -5.776353\n",
       "19   -4.632199\n",
       "20   -3.245904\n",
       "21   -4.126868\n",
       "22   -4.310016\n",
       "23   -3.852183\n",
       "24   -3.952845\n",
       "25   -4.957095\n",
       "26   -3.788332\n",
       "Name: ln s^2, dtype: float64"
      ]
     },
     "execution_count": 242,
     "metadata": {},
     "output_type": "execute_result"
    }
   ],
   "source": [
    "Y1"
   ]
  },
  {
   "cell_type": "code",
   "execution_count": 243,
   "id": "cf3f875f",
   "metadata": {},
   "outputs": [
    {
     "name": "stdout",
     "output_type": "stream",
     "text": [
      "                            OLS Regression Results                            \n",
      "==============================================================================\n",
      "Dep. Variable:                 ln s^2   R-squared:                       0.527\n",
      "Model:                            OLS   Adj. R-squared:                  0.440\n",
      "Method:                 Least Squares   F-statistic:                     6.116\n",
      "Date:                Tue, 30 Apr 2024   Prob (F-statistic):            0.00182\n",
      "Time:                        15:27:20   Log-Likelihood:                -23.007\n",
      "No. Observations:                  27   AIC:                             56.01\n",
      "Df Residuals:                      22   BIC:                             62.49\n",
      "Df Model:                           4                                         \n",
      "Covariance Type:            nonrobust                                         \n",
      "==============================================================================\n",
      "                 coef    std err          t      P>|t|      [0.025      0.975]\n",
      "------------------------------------------------------------------------------\n",
      "const         -4.2716      0.121    -35.315      0.000      -4.522      -4.021\n",
      "B_l           -0.4285      0.210     -2.046      0.053      -0.863       0.006\n",
      "AB^2_l        -0.5240      0.210     -2.501      0.020      -0.959      -0.090\n",
      "C_q            0.5538      0.210      2.644      0.015       0.119       0.988\n",
      "AB^2C_l       -0.5556      0.210     -2.652      0.015      -0.990      -0.121\n",
      "==============================================================================\n",
      "Omnibus:                        2.914   Durbin-Watson:                   1.858\n",
      "Prob(Omnibus):                  0.233   Jarque-Bera (JB):                1.591\n",
      "Skew:                          -0.547   Prob(JB):                        0.451\n",
      "Kurtosis:                       3.465   Cond. No.                         1.73\n",
      "==============================================================================\n",
      "\n",
      "Notes:\n",
      "[1] Standard Errors assume that the covariance matrix of the errors is correctly specified.\n"
     ]
    }
   ],
   "source": [
    "print(Dispersion_model_updated.summary())"
   ]
  },
  {
   "cell_type": "code",
   "execution_count": null,
   "id": "c4f6df65",
   "metadata": {},
   "outputs": [],
   "source": [
    "# From the above regression , we get the coefficients and hence the regression equation is as follows \n",
    "\n",
    "# To minimmise the dispersion, we can choose B_l as positive , AB^2_l as positive , C_q as negative and AB^2C_l as positive \n",
    "# The three levels for linear are  1/Root 2 (-1,0,1)\n",
    "# The three levels for quadratic are 1/root(6) (1,-2,1)"
   ]
  },
  {
   "cell_type": "code",
   "execution_count": null,
   "id": "0ad5439c",
   "metadata": {},
   "outputs": [],
   "source": [
    "# As AB^2_l is aliased with the main effect E, hence by the rule of effect heirarchy principle, AB^2_l is replaced \n",
    "# by E. \n",
    "# There the regression equation becomes \n",
    "# ln s^2 = -4.2716 - 0.4285* B_l -0.5250 * AB^2_l +0.5538 * C_q -0.5556 * E  "
   ]
  }
 ],
 "metadata": {
  "kernelspec": {
   "display_name": "Python 3 (ipykernel)",
   "language": "python",
   "name": "python3"
  },
  "language_info": {
   "codemirror_mode": {
    "name": "ipython",
    "version": 3
   },
   "file_extension": ".py",
   "mimetype": "text/x-python",
   "name": "python",
   "nbconvert_exporter": "python",
   "pygments_lexer": "ipython3",
   "version": "3.9.13"
  }
 },
 "nbformat": 4,
 "nbformat_minor": 5
}
